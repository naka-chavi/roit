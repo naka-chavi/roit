{
  "nbformat": 4,
  "nbformat_minor": 0,
  "metadata": {
    "colab": {
      "name": "roit_txt.ipynb",
      "provenance": [],
      "collapsed_sections": []
    },
    "kernelspec": {
      "name": "python3",
      "display_name": "Python 3"
    }
  },
  "cells": [
    {
      "cell_type": "markdown",
      "metadata": {
        "id": "BoLGZw7Lhgui"
      },
      "source": [
        "<h1> Imports e installs <h1>"
      ]
    },
    {
      "cell_type": "code",
      "metadata": {
        "id": "ZnDp0U1Pleym",
        "outputId": "95f549f5-de14-4f46-9f6c-1bdf96ddbda4",
        "colab": {
          "base_uri": "https://localhost:8080/",
          "height": 272
        }
      },
      "source": [
        "!pip install db-sqlite3\n",
        "!pip install flask-ngrok\n",
        "import base64\n",
        "import tensorflow as tf\n",
        "import matplotlib.pyplot as plt\n",
        "import pandas as pd\n",
        "import sqlite3\n",
        "from datetime import date\n",
        "from tensorflow.keras.models import Sequential\n",
        "from tensorflow.keras.layers import Dense, Conv2D, Dropout, Flatten, MaxPooling2D\n",
        "import numpy as np\n",
        "from PIL import Image, ImageFilter\n",
        "import os\n",
        "from flask_ngrok import run_with_ngrok\n",
        "from flask import Flask,flash, request, redirect, url_for\n",
        "from werkzeug.utils import secure_filename\n",
        "from keras.backend import manual_variable_initialization \n",
        "import uuid\n",
        "import base64\n",
        "from io import BytesIO"
      ],
      "execution_count": 100,
      "outputs": [
        {
          "output_type": "stream",
          "text": [
            "Requirement already satisfied: db-sqlite3 in /usr/local/lib/python3.6/dist-packages (0.0.1)\n",
            "Requirement already satisfied: db in /usr/local/lib/python3.6/dist-packages (from db-sqlite3) (0.1.1)\n",
            "Requirement already satisfied: antiorm in /usr/local/lib/python3.6/dist-packages (from db->db-sqlite3) (1.2.1)\n",
            "Requirement already satisfied: flask-ngrok in /usr/local/lib/python3.6/dist-packages (0.0.25)\n",
            "Requirement already satisfied: requests in /usr/local/lib/python3.6/dist-packages (from flask-ngrok) (2.23.0)\n",
            "Requirement already satisfied: Flask>=0.8 in /usr/local/lib/python3.6/dist-packages (from flask-ngrok) (1.1.2)\n",
            "Requirement already satisfied: idna<3,>=2.5 in /usr/local/lib/python3.6/dist-packages (from requests->flask-ngrok) (2.10)\n",
            "Requirement already satisfied: urllib3!=1.25.0,!=1.25.1,<1.26,>=1.21.1 in /usr/local/lib/python3.6/dist-packages (from requests->flask-ngrok) (1.24.3)\n",
            "Requirement already satisfied: certifi>=2017.4.17 in /usr/local/lib/python3.6/dist-packages (from requests->flask-ngrok) (2020.6.20)\n",
            "Requirement already satisfied: chardet<4,>=3.0.2 in /usr/local/lib/python3.6/dist-packages (from requests->flask-ngrok) (3.0.4)\n",
            "Requirement already satisfied: Jinja2>=2.10.1 in /usr/local/lib/python3.6/dist-packages (from Flask>=0.8->flask-ngrok) (2.11.2)\n",
            "Requirement already satisfied: Werkzeug>=0.15 in /usr/local/lib/python3.6/dist-packages (from Flask>=0.8->flask-ngrok) (1.0.1)\n",
            "Requirement already satisfied: click>=5.1 in /usr/local/lib/python3.6/dist-packages (from Flask>=0.8->flask-ngrok) (7.1.2)\n",
            "Requirement already satisfied: itsdangerous>=0.24 in /usr/local/lib/python3.6/dist-packages (from Flask>=0.8->flask-ngrok) (1.1.0)\n",
            "Requirement already satisfied: MarkupSafe>=0.23 in /usr/local/lib/python3.6/dist-packages (from Jinja2>=2.10.1->Flask>=0.8->flask-ngrok) (1.1.1)\n"
          ],
          "name": "stdout"
        }
      ]
    },
    {
      "cell_type": "markdown",
      "metadata": {
        "id": "lBVNbCCcg3ue"
      },
      "source": [
        "# Se voce quiser ver a NN treinando, mude a variável abaixo pra True. Deve demorar alguns minutos."
      ]
    },
    {
      "cell_type": "code",
      "metadata": {
        "id": "ec2b8Vt4fow2"
      },
      "source": [
        "demonstrate_training=False"
      ],
      "execution_count": 112,
      "outputs": []
    },
    {
      "cell_type": "code",
      "metadata": {
        "id": "C0irX02j-uuF",
        "outputId": "23d3853d-5c49-4037-9a36-8fdcc6177e66",
        "colab": {
          "base_uri": "https://localhost:8080/",
          "height": 357
        }
      },
      "source": [
        "if (demonstrate_training==True):\n",
        "  (x_train, y_train), (x_test, y_test) = tf.keras.datasets.mnist.load_data()\n",
        "  image_index = 7777 # You may select anything up to 60,000\n",
        "  \n",
        "  x_train = x_train.reshape(x_train.shape[0], 28, 28, 1)\n",
        "  x_test = x_test.reshape(x_test.shape[0], 28, 28, 1)\n",
        "  input_shape = (28, 28, 1)\n",
        "  # Check se ta em float\n",
        "  x_train = x_train.astype('float32')\n",
        "  x_test = x_test.astype('float32')\n",
        "  # Normaliza pra 255\n",
        "  x_train /= 255\n",
        "  x_test /= 255\n",
        "  print('x_train shape:', x_train.shape)\n",
        "  print('Number of images in x_train', x_train.shape[0])\n",
        "  print('Number of images in x_test', x_test.shape[0])\n",
        "\n",
        "  # Cria nossa NN\n",
        "  model = Sequential()\n",
        "  model.add(Conv2D(28, kernel_size=(3,3), input_shape=input_shape))\n",
        "  model.add(MaxPooling2D(pool_size=(2, 2)))\n",
        "  model.add(Flatten()) \n",
        "  model.add(Dense(128, activation=tf.nn.relu))\n",
        "  model.add(Dropout(0.2))\n",
        "  model.add(Dense(10,activation=tf.nn.softmax))\n",
        "  model.compile(optimizer='adam', \n",
        "                loss='sparse_categorical_crossentropy', \n",
        "                metrics=['accuracy'])\n",
        "  \n",
        "  #Fit na NN\n",
        "  model.fit(x=x_train,y=y_train, epochs=10)\n",
        "  #Eval\n",
        "  model.evaluate(x_test, y_test)\n",
        "  image_index = 4444\n",
        "  plt.imshow(x_test[image_index].reshape(28, 28),cmap='Greys')\n",
        "  pred = model.predict(x_test[image_index].reshape(1, 28, 28, 1))\n",
        "  print(pred.argmax())\n",
        "  #Salva o modelo para não termos que treinar toda vez que alguem quiser usar o código\n",
        "  model.save('my_model.h5')\n",
        "\n",
        "manual_variable_initialization(True)\n",
        "new_model = tf.keras.models.load_model('my_model.h5')\n",
        "# Resumo da NN\n",
        "new_model.summary() "
      ],
      "execution_count": 113,
      "outputs": [
        {
          "output_type": "stream",
          "text": [
            "Model: \"sequential\"\n",
            "_________________________________________________________________\n",
            "Layer (type)                 Output Shape              Param #   \n",
            "=================================================================\n",
            "conv2d (Conv2D)              (None, 26, 26, 28)        280       \n",
            "_________________________________________________________________\n",
            "max_pooling2d (MaxPooling2D) (None, 13, 13, 28)        0         \n",
            "_________________________________________________________________\n",
            "flatten (Flatten)            (None, 4732)              0         \n",
            "_________________________________________________________________\n",
            "dense (Dense)                (None, 128)               605824    \n",
            "_________________________________________________________________\n",
            "dropout (Dropout)            (None, 128)               0         \n",
            "_________________________________________________________________\n",
            "dense_1 (Dense)              (None, 10)                1290      \n",
            "=================================================================\n",
            "Total params: 607,394\n",
            "Trainable params: 607,394\n",
            "Non-trainable params: 0\n",
            "_________________________________________________________________\n"
          ],
          "name": "stdout"
        }
      ]
    },
    {
      "cell_type": "markdown",
      "metadata": {
        "id": "xPpH4A9Nh2Uw"
      },
      "source": [
        "Rode de a célula abaixo para testar alguns valores"
      ]
    },
    {
      "cell_type": "code",
      "metadata": {
        "id": "7FsMPfQyVRdg",
        "outputId": "35295f00-f0da-49a3-b3de-024651aab032",
        "colab": {
          "base_uri": "https://localhost:8080/",
          "height": 336
        }
      },
      "source": [
        "print(len(x_test[1]))\n",
        "image_index = np.random.randint(0,len(x_test[1]))\n",
        "plt.imshow(x_test[image_index].reshape(28, 28),cmap='Greys')\n",
        "pred = new_model.predict(x_test[image_index].reshape(1, 28, 28, 1))\n",
        "print(pred.argmax())"
      ],
      "execution_count": 103,
      "outputs": [
        {
          "output_type": "stream",
          "text": [
            "28\n",
            "WARNING:tensorflow:5 out of the last 18 calls to <function Model.make_predict_function.<locals>.predict_function at 0x7f6308863b70> triggered tf.function retracing. Tracing is expensive and the excessive number of tracings could be due to (1) creating @tf.function repeatedly in a loop, (2) passing tensors with different shapes, (3) passing Python objects instead of tensors. For (1), please define your @tf.function outside of the loop. For (2), @tf.function has experimental_relax_shapes=True option that relaxes argument shapes that can avoid unnecessary retracing. For (3), please refer to https://www.tensorflow.org/tutorials/customization/performance#python_or_tensor_args and https://www.tensorflow.org/api_docs/python/tf/function for  more details.\n",
            "4\n"
          ],
          "name": "stdout"
        },
        {
          "output_type": "display_data",
          "data": {
            "image/png": "[encoded data removed]",
            "text/plain": [
              "<Figure size 432x288 with 1 Axes>"
            ]
          },
          "metadata": {
            "tags": [],
            "needs_background": "light"
          }
        }
      ]
    },
    {
      "cell_type": "markdown",
      "metadata": {
        "id": "5Dgkvmi2iMA6"
      },
      "source": [
        "<h1> UTILITY FUNCTIONS"
      ]
    },
    {
      "cell_type": "code",
      "metadata": {
        "id": "MB_z8n3-l1Dk"
      },
      "source": [
        "#função pra tratar e preparar as imagens que são recebidas\n",
        "def imageprepare(argv):\n",
        "   \n",
        "    im = Image.open(argv).convert('L')\n",
        "    width = float(im.size[0])\n",
        "    height = float(im.size[1])\n",
        "    newImage = Image.new('L', (28, 28), (255))  \n",
        "\n",
        "    if width > height:  # check which dimension is bigger\n",
        "        # Width is bigger. Width becomes 20 pixels.\n",
        "        nheight = int(round((20.0 / width * height), 0))  # resize height according to ratio width\n",
        "        if (nheight == 0):  # rare case but minimum is 1 pixel\n",
        "            nheight = 1\n",
        "            # resize and sharpen\n",
        "        img = im.resize((20, nheight), Image.ANTIALIAS).filter(ImageFilter.SHARPEN)\n",
        "        wtop = int(round(((28 - nheight) / 2), 0))  # calculate horizontal position\n",
        "        newImage.paste(img, (4, wtop))  # paste resized image on white canvas\n",
        "    else:\n",
        "        # Height is bigger. Heigth becomes 20 pixels.\n",
        "        nwidth = int(round((20.0 / height * width), 0))  # resize width according to ratio height\n",
        "        if (nwidth == 0):  # rare case but minimum is 1 pixel\n",
        "            nwidth = 1\n",
        "            # resize and sharpen\n",
        "        img = im.resize((nwidth, 20), Image.ANTIALIAS).filter(ImageFilter.SHARPEN)\n",
        "        wleft = int(round(((28 - nwidth) / 2), 0))  # caculate vertical pozition\n",
        "        newImage.paste(img, (wleft, 4))  # paste resized image on white canvas\n",
        "\n",
        "    # newImage.save(\"sample.png\n",
        "\n",
        "    tv = list(newImage.getdata())  # get pixel values\n",
        "\n",
        "    # normalize pixels to 0 and 1. 0 is pure white, 1 is pure black.\n",
        "    tva = [(255 - x) * 1.0 / 255.0 for x in tv]\n",
        "    print(tva)\n",
        "    return tva\n",
        "\n",
        "def decode_and_save(path):\n",
        "  #split o path pra pegar só o nome sem .txt\n",
        "  filename=path.rsplit('.', 1)[0]\n",
        "  #abre o txt \n",
        "  f = open(path, 'r')\n",
        "  #le e armazena\n",
        "  data = f.read()\n",
        "  #fecha o arquivo\n",
        "  f.closed\n",
        "  #decodifica o base64 numa imagem\n",
        "  im = Image.open(BytesIO(base64.b64decode(data)))\n",
        "  #save em .png\n",
        "  im.save(filename+'.png', 'PNG')\n",
        "  #retorna o path\n",
        "  return filename+'.png'"
      ],
      "execution_count": 104,
      "outputs": []
    },
    {
      "cell_type": "markdown",
      "metadata": {
        "id": "2PsOMTcbiSOx"
      },
      "source": [
        "Definição do API"
      ]
    },
    {
      "cell_type": "code",
      "metadata": {
        "id": "HcGKyQVRWaFz"
      },
      "source": [
        "UPLOAD_FOLDER = ''\n",
        "#garante que só aceita .txt\n",
        "ALLOWED_EXTENSIONS = {'txt'}\n",
        "app = Flask(__name__)\n",
        "app.config['UPLOAD_FOLDER'] = UPLOAD_FOLDER\n",
        "run_with_ngrok(app)   #starts ngrok when the app is run\n",
        " #escolhi rodar com o negrok pra conseguir rodar via google collab, assim se alguem quiser executar o código sem ter jupyter ou algo do tipo, consegue\n",
        "def allowed_file(filename):\n",
        "    return '.' in filename and \\\n",
        "           filename.rsplit('.', 1)[1].lower() in ALLOWED_EXTENSIONS\n",
        "#definição da API\n",
        "@app.route('/', methods=['GET', 'POST'])\n",
        "def upload_file():\n",
        "    if request.method == 'POST':\n",
        "        # checka se a chamada tem file\n",
        "        if 'file' not in request.files:\n",
        "            flash('No file part')\n",
        "            return redirect(request.url)\n",
        "        file = request.files['file']\n",
        "        # if user does not select file, browser also\n",
        "        # submit an empty part without filename\n",
        "        if file.filename == '':\n",
        "            flash('No selected file')\n",
        "            return redirect(request.url)\n",
        "        if file and allowed_file(file.filename):\n",
        "            filename = secure_filename(file.filename)\n",
        "            file.save(os.path.join(app.config['UPLOAD_FOLDER'], filename))\n",
        "            #trata o arquivo e passa path do png\n",
        "            img = imageprepare(decode_and_save(filename))\n",
        "            \n",
        "            img = np.array(img)\n",
        "            img = img.reshape(1,28,28,1)\n",
        "            pred= new_model.predict(img)\n",
        "            #connecta da db e insere a chamada\n",
        "            db = sqlite3.connect(\"testing.db\")\n",
        "            Path=filename\n",
        "            Result=str(pred.argmax())\n",
        "            Id=uuid.uuid4()\n",
        "            Date=date.today().strftime(\"%d-%m-%Y\")\n",
        "            cmd = \"insert into results(Id,Date,Path,Result) values('{}','{}','{}','{}')\".format(Id,Date,Path,Result)\n",
        "            db.execute(cmd)\n",
        "            db.commit()\n",
        "            db.close()\n",
        "            #retorna o valor predito\n",
        "            return Result\n",
        "    return '''\n",
        "    <!doctype html>\n",
        "    <title>Number Guesser</title>\n",
        "    <h1>Envie seu arquivo .txt contendo o base64</h1>\n",
        "    <form method=post enctype=multipart/form-data>\n",
        "      <input type=file name=file>\n",
        "      <input type=submit value=Upload>\n",
        "    </form>\n",
        "    '''"
      ],
      "execution_count": 117,
      "outputs": []
    },
    {
      "cell_type": "markdown",
      "metadata": {
        "id": "nU1NNjYFiU8r"
      },
      "source": [
        "# Criação do db"
      ]
    },
    {
      "cell_type": "code",
      "metadata": {
        "id": "Sluf-DyM53kK"
      },
      "source": [
        "#connecting with the database.\n",
        "db = sqlite3.connect(\"testing.db\")\n",
        "db.execute(\"drop table if exists results\")\n",
        "try:\n",
        "  db.execute(\"create table results(Id text,Date datetime,Path text,Result text)\")\n",
        "except:\n",
        "  print(\"Already table existed !!\")"
      ],
      "execution_count": 115,
      "outputs": []
    },
    {
      "cell_type": "code",
      "metadata": {
        "id": "3HY-3942ZqlA",
        "outputId": "c2e7468f-2201-4632-94a5-e3d996ec77ce",
        "colab": {
          "base_uri": "https://localhost:8080/",
          "height": 187
        }
      },
      "source": [
        "#roda e disponibiliza a api\n",
        "app.run()"
      ],
      "execution_count": 118,
      "outputs": [
        {
          "output_type": "stream",
          "text": [
            " * Serving Flask app \"__main__\" (lazy loading)\n",
            " * Environment: production\n",
            "\u001b[31m   WARNING: This is a development server. Do not use it in a production deployment.\u001b[0m\n",
            "\u001b[2m   Use a production WSGI server instead.\u001b[0m\n",
            " * Debug mode: off\n"
          ],
          "name": "stdout"
        },
        {
          "output_type": "stream",
          "text": [
            " * Running on http://127.0.0.1:5000/ (Press CTRL+C to quit)\n"
          ],
          "name": "stderr"
        },
        {
          "output_type": "stream",
          "text": [
            " * Running on http://fd440109e4f4.ngrok.io\n",
            " * Traffic stats available on http://127.0.0.1:4040\n"
          ],
          "name": "stdout"
        },
        {
          "output_type": "stream",
          "text": [
            "127.0.0.1 - - [10/Oct/2020 17:29:18] \"\u001b[37mGET / HTTP/1.1\u001b[0m\" 200 -\n",
            "127.0.0.1 - - [10/Oct/2020 17:29:19] \"\u001b[33mGET /favicon.ico HTTP/1.1\u001b[0m\" 404 -\n"
          ],
          "name": "stderr"
        }
      ]
    },
    {
      "cell_type": "markdown",
      "metadata": {
        "id": "ia-PrXPDidz2"
      },
      "source": [
        "pause o run do servidor na célula acima caso você queira ver o db, e rode a célula abaixo"
      ]
    },
    {
      "cell_type": "code",
      "metadata": {
        "id": "yk5liZSu7pvr",
        "outputId": "34e22965-b41b-4a9e-801a-bc07053ece33",
        "colab": {
          "base_uri": "https://localhost:8080/",
          "height": 80
        }
      },
      "source": [
        "db = sqlite3.connect(\"testing.db\")\n",
        "qry = \"\"\"\n",
        "\n",
        "SELECT * FROM results\n",
        "\n",
        "\"\"\"\n",
        "df = pd.read_sql_query(qry, db)\n",
        "df.head()"
      ],
      "execution_count": 108,
      "outputs": [
        {
          "output_type": "execute_result",
          "data": {
            "text/html": [
              "<div>\n",
              "<style scoped>\n",
              "    .dataframe tbody tr th:only-of-type {\n",
              "        vertical-align: middle;\n",
              "    }\n",
              "\n",
              "    .dataframe tbody tr th {\n",
              "        vertical-align: top;\n",
              "    }\n",
              "\n",
              "    .dataframe thead th {\n",
              "        text-align: right;\n",
              "    }\n",
              "</style>\n",
              "<table border=\"1\" class=\"dataframe\">\n",
              "  <thead>\n",
              "    <tr style=\"text-align: right;\">\n",
              "      <th></th>\n",
              "      <th>Id</th>\n",
              "      <th>Date</th>\n",
              "      <th>Path</th>\n",
              "      <th>Result</th>\n",
              "    </tr>\n",
              "  </thead>\n",
              "  <tbody>\n",
              "    <tr>\n",
              "      <th>0</th>\n",
              "      <td>aee6bfe9-dc93-4c5c-bbfc-b11b2dec041f</td>\n",
              "      <td>10-10-2020</td>\n",
              "      <td>image1.txt</td>\n",
              "      <td>2</td>\n",
              "    </tr>\n",
              "  </tbody>\n",
              "</table>\n",
              "</div>"
            ],
            "text/plain": [
              "                                     Id        Date        Path Result\n",
              "0  aee6bfe9-dc93-4c5c-bbfc-b11b2dec041f  10-10-2020  image1.txt      2"
            ]
          },
          "metadata": {
            "tags": []
          },
          "execution_count": 108
        }
      ]
    }
  ]
}